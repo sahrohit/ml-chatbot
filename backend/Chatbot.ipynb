{
 "cells": [
  {
   "cell_type": "markdown",
   "metadata": {},
   "source": [
    "<center><h1>Chatbot</h1></center>"
   ]
  },
  {
   "cell_type": "markdown",
   "metadata": {},
   "source": [
    "# Imports"
   ]
  },
  {
   "cell_type": "code",
   "execution_count": 77,
   "metadata": {},
   "outputs": [],
   "source": [
    "import json\n",
    "import nltk\n",
    "import random\n",
    "import numpy as np\n",
    "\n",
    "from nltk import data\n",
    "from nltk.stem.porter import PorterStemmer\n",
    "\n",
    "import torch\n",
    "import torch.nn as nn\n",
    "from torch.utils.data import Dataset, DataLoader"
   ]
  },
  {
   "cell_type": "markdown",
   "metadata": {},
   "source": [
    "# Constants"
   ]
  },
  {
   "cell_type": "code",
   "execution_count": 78,
   "metadata": {},
   "outputs": [],
   "source": [
    "all_words = []\n",
    "tags = []\n",
    "xy = []"
   ]
  },
  {
   "cell_type": "markdown",
   "metadata": {},
   "source": [
    "# Reading the Dataset"
   ]
  },
  {
   "cell_type": "code",
   "execution_count": 79,
   "metadata": {},
   "outputs": [
    {
     "data": {
      "text/plain": [
       "{'intents': [{'tag': 'greeting',\n",
       "   'patterns': ['Hi',\n",
       "    'Hey',\n",
       "    'How are you',\n",
       "    'Is anyone there?',\n",
       "    'Hello',\n",
       "    'Good day'],\n",
       "   'responses': ['Hey :-)',\n",
       "    'Hello, thanks for visiting',\n",
       "    'Hi there, what can I do for you?',\n",
       "    'Hi there, how can I help?']},\n",
       "  {'tag': 'goodbye',\n",
       "   'patterns': ['Bye', 'See you later', 'Goodbye'],\n",
       "   'responses': ['See you later, thanks for visiting',\n",
       "    'Have a nice day',\n",
       "    'Bye! Come back again soon.']},\n",
       "  {'tag': 'thanks',\n",
       "   'patterns': ['Thanks', 'Thank you', \"That's helpful\", \"Thank's a lot!\"],\n",
       "   'responses': ['Happy to help!', 'Any time!', 'My pleasure']},\n",
       "  {'tag': 'items',\n",
       "   'patterns': ['Which items do you have?',\n",
       "    'What kinds of items are there?',\n",
       "    'What do you sell?'],\n",
       "   'responses': ['We sell coffee and tea', 'We have coffee and tea']},\n",
       "  {'tag': 'payments',\n",
       "   'patterns': ['Do you take credit cards?',\n",
       "    'Do you accept Mastercard?',\n",
       "    'Can I pay with Paypal?',\n",
       "    'Are you cash only?'],\n",
       "   'responses': ['We accept VISA, Mastercard and Paypal',\n",
       "    'We accept most major credit cards, and Paypal']},\n",
       "  {'tag': 'delivery',\n",
       "   'patterns': ['How long does delivery take?',\n",
       "    'How long does shipping take?',\n",
       "    'When do I get my delivery?'],\n",
       "   'responses': ['Delivery takes 2-4 days', 'Shipping takes 2-4 days']},\n",
       "  {'tag': 'funny',\n",
       "   'patterns': ['Tell me a joke!',\n",
       "    'Tell me something funny!',\n",
       "    'Do you know a joke?'],\n",
       "   'responses': ['Why did the hipster burn his mouth? He drank the coffee before it was cool.',\n",
       "    'What did the buffalo say when his son left for college? Bison.']}]}"
      ]
     },
     "execution_count": 79,
     "metadata": {},
     "output_type": "execute_result"
    }
   ],
   "source": [
    "with open(\"sample.json\", \"r\") as f:\n",
    "    intents = json.load(f)\n",
    "intents"
   ]
  },
  {
   "cell_type": "markdown",
   "metadata": {},
   "source": [
    "# Preprocessing"
   ]
  },
  {
   "cell_type": "code",
   "execution_count": 80,
   "metadata": {},
   "outputs": [],
   "source": [
    "stemmer = PorterStemmer()\n",
    "\n",
    "def tokenize(sentence):\n",
    "    return nltk.word_tokenize(sentence)\n",
    "\n",
    "def stem(word):\n",
    "    return stemmer.stem(word.lower())\n",
    "\n",
    "def bag_of_words(tokenized_sentence, all_words):\n",
    "    sentence_words = [stem(w) for w in tokenized_sentence]\n",
    "    bag = np.zeros(len(all_words), dtype=np.float32)\n",
    "    for (idx, w) in enumerate(all_words):\n",
    "        if w in sentence_words:\n",
    "            bag[idx] = 1.0\n",
    "    return bag\n"
   ]
  },
  {
   "cell_type": "code",
   "execution_count": 81,
   "metadata": {},
   "outputs": [
    {
     "data": {
      "text/plain": [
       "[\"'s\",\n",
       " 'a',\n",
       " 'accept',\n",
       " 'anyon',\n",
       " 'are',\n",
       " 'bye',\n",
       " 'can',\n",
       " 'card',\n",
       " 'cash',\n",
       " 'credit',\n",
       " 'day',\n",
       " 'deliveri',\n",
       " 'do',\n",
       " 'doe',\n",
       " 'funni',\n",
       " 'get',\n",
       " 'good',\n",
       " 'goodby',\n",
       " 'have',\n",
       " 'hello',\n",
       " 'help',\n",
       " 'hey',\n",
       " 'hi',\n",
       " 'how',\n",
       " 'i',\n",
       " 'is',\n",
       " 'item',\n",
       " 'joke',\n",
       " 'kind',\n",
       " 'know',\n",
       " 'later',\n",
       " 'long',\n",
       " 'lot',\n",
       " 'mastercard',\n",
       " 'me',\n",
       " 'my',\n",
       " 'of',\n",
       " 'onli',\n",
       " 'pay',\n",
       " 'paypal',\n",
       " 'see',\n",
       " 'sell',\n",
       " 'ship',\n",
       " 'someth',\n",
       " 'take',\n",
       " 'tell',\n",
       " 'thank',\n",
       " 'that',\n",
       " 'there',\n",
       " 'what',\n",
       " 'when',\n",
       " 'which',\n",
       " 'with',\n",
       " 'you']"
      ]
     },
     "execution_count": 81,
     "metadata": {},
     "output_type": "execute_result"
    }
   ],
   "source": [
    "for intent in intents[\"intents\"]:\n",
    "    tag = intent[\"tag\"]\n",
    "    tags.append(tag)\n",
    "    for pattern in intent[\"patterns\"]:\n",
    "        w = tokenize(pattern)\n",
    "        all_words.extend(w)\n",
    "        xy.append((w, tag))\n",
    "\n",
    "ignore_words = [\"?\", \"!\", \".\"]\n",
    "all_words = [stem(w) for w in all_words if w not in ignore_words]\n",
    "\n",
    "all_words = sorted(set(all_words))\n",
    "tags = sorted(set(tags))\n",
    "all_words"
   ]
  },
  {
   "cell_type": "code",
   "execution_count": 82,
   "metadata": {},
   "outputs": [
    {
     "data": {
      "text/plain": [
       "array([[0., 0., 0., ..., 0., 0., 0.],\n",
       "       [0., 0., 0., ..., 0., 0., 0.],\n",
       "       [0., 0., 0., ..., 0., 0., 1.],\n",
       "       ...,\n",
       "       [0., 1., 0., ..., 0., 0., 0.],\n",
       "       [0., 0., 0., ..., 0., 0., 0.],\n",
       "       [0., 1., 0., ..., 0., 0., 1.]], dtype=float32)"
      ]
     },
     "execution_count": 82,
     "metadata": {},
     "output_type": "execute_result"
    }
   ],
   "source": [
    "X_train = []\n",
    "y_train = []\n",
    "for (pattern_sentence, tag) in xy:\n",
    "    bag = bag_of_words(pattern_sentence, all_words)\n",
    "    X_train.append(bag)\n",
    "\n",
    "    label = tags.index(tag)\n",
    "    y_train.append(label)\n",
    "\n",
    "X_train = np.array(X_train)\n",
    "y_train = np.array(y_train)\n",
    "X_train"
   ]
  },
  {
   "cell_type": "markdown",
   "metadata": {},
   "source": [
    "## Hyper Parameters"
   ]
  },
  {
   "cell_type": "code",
   "execution_count": 83,
   "metadata": {},
   "outputs": [],
   "source": [
    "batch_size = 8\n",
    "hidden_size = 8\n",
    "output_size = len(tags)\n",
    "input_size = len(X_train[0])\n",
    "learning_rate = 0.001\n",
    "num_epochs = 200"
   ]
  },
  {
   "cell_type": "code",
   "execution_count": 84,
   "metadata": {},
   "outputs": [],
   "source": [
    "class ChatDataset(Dataset):\n",
    "    def __init__(self):\n",
    "        self.n_samples = len(X_train)\n",
    "        self.x_data = X_train\n",
    "        self.y_data = y_train\n",
    "\n",
    "    # dataset[idx]\n",
    "    def __getitem__(self, index):\n",
    "        return self.x_data[index], self.y_data[index]\n",
    "\n",
    "    def __len__(self):\n",
    "        return self.n_samples\n",
    "\n",
    "\n",
    "dataset = ChatDataset()\n",
    "train_loader = DataLoader(\n",
    "    dataset=dataset, batch_size=batch_size, shuffle=True, num_workers=0\n",
    ")"
   ]
  },
  {
   "cell_type": "code",
   "execution_count": 85,
   "metadata": {},
   "outputs": [],
   "source": [
    "class NeuralNet(nn.Module):\n",
    "    def __init__(self, input_size, hidden_size, num_classes):\n",
    "        super(NeuralNet, self).__init__()\n",
    "        self.l1 = nn.Linear(input_size, hidden_size)\n",
    "        self.l2 = nn.Linear(hidden_size, hidden_size)\n",
    "        self.l3 = nn.Linear(hidden_size, num_classes)\n",
    "        self.relu = nn.ReLU()\n",
    "\n",
    "    def forward(self, x):\n",
    "        out = self.l1(x)\n",
    "        out = self.relu(out)\n",
    "        out = self.l2(out)\n",
    "        out = self.relu(out)\n",
    "        out = self.l3(out)\n",
    "        # out = self.relu(out)\n",
    "        return out"
   ]
  },
  {
   "cell_type": "code",
   "execution_count": 86,
   "metadata": {},
   "outputs": [
    {
     "name": "stdout",
     "output_type": "stream",
     "text": [
      "Epoch 1/200, loss=1.7658\n",
      "Epoch 2/200, loss=1.8239\n",
      "Epoch 3/200, loss=1.8327\n",
      "Epoch 4/200, loss=2.1734\n",
      "Epoch 5/200, loss=1.7086\n",
      "Epoch 6/200, loss=2.0719\n",
      "Epoch 7/200, loss=1.7031\n",
      "Epoch 8/200, loss=1.8664\n",
      "Epoch 9/200, loss=1.6915\n",
      "Epoch 10/200, loss=1.7687\n",
      "Epoch 11/200, loss=2.1112\n",
      "Epoch 12/200, loss=2.1499\n",
      "Epoch 13/200, loss=1.7228\n",
      "Epoch 14/200, loss=1.9108\n",
      "Epoch 15/200, loss=1.9359\n",
      "Epoch 16/200, loss=1.5877\n",
      "Epoch 17/200, loss=2.1293\n",
      "Epoch 18/200, loss=2.0893\n",
      "Epoch 19/200, loss=2.2980\n",
      "Epoch 20/200, loss=1.9052\n",
      "Epoch 21/200, loss=1.8491\n",
      "Epoch 22/200, loss=1.6589\n",
      "Epoch 23/200, loss=1.6620\n",
      "Epoch 24/200, loss=1.9098\n",
      "Epoch 25/200, loss=1.9268\n",
      "Epoch 26/200, loss=1.5625\n",
      "Epoch 27/200, loss=1.7993\n",
      "Epoch 28/200, loss=2.0873\n",
      "Epoch 29/200, loss=1.8359\n",
      "Epoch 30/200, loss=1.9506\n",
      "Epoch 31/200, loss=1.7697\n",
      "Epoch 32/200, loss=1.6464\n",
      "Epoch 33/200, loss=2.1796\n",
      "Epoch 34/200, loss=1.6795\n",
      "Epoch 35/200, loss=1.6057\n",
      "Epoch 36/200, loss=1.6994\n",
      "Epoch 37/200, loss=1.4990\n",
      "Epoch 38/200, loss=1.6980\n",
      "Epoch 39/200, loss=2.1197\n",
      "Epoch 40/200, loss=2.2368\n",
      "Epoch 41/200, loss=2.1211\n",
      "Epoch 42/200, loss=1.8382\n",
      "Epoch 43/200, loss=1.6869\n",
      "Epoch 44/200, loss=1.8578\n",
      "Epoch 45/200, loss=1.7232\n",
      "Epoch 46/200, loss=2.0780\n",
      "Epoch 47/200, loss=1.9514\n",
      "Epoch 48/200, loss=1.8542\n",
      "Epoch 49/200, loss=1.4483\n",
      "Epoch 50/200, loss=1.4255\n",
      "Epoch 51/200, loss=1.9114\n",
      "Epoch 52/200, loss=1.8732\n",
      "Epoch 53/200, loss=1.7301\n",
      "Epoch 54/200, loss=1.5032\n",
      "Epoch 55/200, loss=1.6977\n",
      "Epoch 56/200, loss=1.6011\n",
      "Epoch 57/200, loss=1.6652\n",
      "Epoch 58/200, loss=1.5915\n",
      "Epoch 59/200, loss=1.4048\n",
      "Epoch 60/200, loss=1.6362\n",
      "Epoch 61/200, loss=1.9309\n",
      "Epoch 62/200, loss=1.9111\n",
      "Epoch 63/200, loss=1.6013\n",
      "Epoch 64/200, loss=1.3409\n",
      "Epoch 65/200, loss=1.2414\n",
      "Epoch 66/200, loss=1.5249\n",
      "Epoch 67/200, loss=1.5748\n",
      "Epoch 68/200, loss=1.5242\n",
      "Epoch 69/200, loss=1.2710\n",
      "Epoch 70/200, loss=1.3213\n",
      "Epoch 71/200, loss=1.8037\n",
      "Epoch 72/200, loss=1.3796\n",
      "Epoch 73/200, loss=1.4933\n",
      "Epoch 74/200, loss=1.0933\n",
      "Epoch 75/200, loss=1.6444\n",
      "Epoch 76/200, loss=1.5103\n",
      "Epoch 77/200, loss=1.3377\n",
      "Epoch 78/200, loss=1.0571\n",
      "Epoch 79/200, loss=1.6523\n",
      "Epoch 80/200, loss=1.2494\n",
      "Epoch 81/200, loss=1.3547\n",
      "Epoch 82/200, loss=1.2546\n",
      "Epoch 83/200, loss=1.2468\n",
      "Epoch 84/200, loss=1.4545\n",
      "Epoch 85/200, loss=1.2702\n",
      "Epoch 86/200, loss=1.1523\n",
      "Epoch 87/200, loss=1.4898\n",
      "Epoch 88/200, loss=1.2418\n",
      "Epoch 89/200, loss=1.2221\n",
      "Epoch 90/200, loss=0.7238\n",
      "Epoch 91/200, loss=1.5681\n",
      "Epoch 92/200, loss=1.7730\n",
      "Epoch 93/200, loss=1.2582\n",
      "Epoch 94/200, loss=1.0269\n",
      "Epoch 95/200, loss=1.4939\n",
      "Epoch 96/200, loss=1.4355\n",
      "Epoch 97/200, loss=1.7905\n",
      "Epoch 98/200, loss=1.0202\n",
      "Epoch 99/200, loss=0.7419\n",
      "Epoch 100/200, loss=0.9982\n",
      "Epoch 101/200, loss=1.3178\n",
      "Epoch 102/200, loss=0.6598\n",
      "Epoch 103/200, loss=1.4017\n",
      "Epoch 104/200, loss=1.0236\n",
      "Epoch 105/200, loss=0.9756\n",
      "Epoch 106/200, loss=1.3632\n",
      "Epoch 107/200, loss=0.8368\n",
      "Epoch 108/200, loss=0.8373\n",
      "Epoch 109/200, loss=1.2951\n",
      "Epoch 110/200, loss=1.2505\n",
      "Epoch 111/200, loss=0.8135\n",
      "Epoch 112/200, loss=1.0551\n",
      "Epoch 113/200, loss=1.1124\n",
      "Epoch 114/200, loss=0.6808\n",
      "Epoch 115/200, loss=0.9691\n",
      "Epoch 116/200, loss=0.6005\n",
      "Epoch 117/200, loss=0.9876\n",
      "Epoch 118/200, loss=1.2532\n",
      "Epoch 119/200, loss=1.5804\n",
      "Epoch 120/200, loss=0.6492\n",
      "Epoch 121/200, loss=0.5038\n",
      "Epoch 122/200, loss=0.9888\n",
      "Epoch 123/200, loss=1.0615\n",
      "Epoch 124/200, loss=0.9576\n",
      "Epoch 125/200, loss=0.4832\n",
      "Epoch 126/200, loss=0.9322\n",
      "Epoch 127/200, loss=0.9941\n",
      "Epoch 128/200, loss=0.4892\n",
      "Epoch 129/200, loss=0.4689\n",
      "Epoch 130/200, loss=0.4981\n",
      "Epoch 131/200, loss=1.5323\n",
      "Epoch 132/200, loss=0.6265\n",
      "Epoch 133/200, loss=1.4549\n",
      "Epoch 134/200, loss=0.3802\n",
      "Epoch 135/200, loss=0.8293\n",
      "Epoch 136/200, loss=0.4136\n",
      "Epoch 137/200, loss=0.9849\n",
      "Epoch 138/200, loss=0.8223\n",
      "Epoch 139/200, loss=0.2449\n",
      "Epoch 140/200, loss=1.0410\n",
      "Epoch 141/200, loss=0.7947\n",
      "Epoch 142/200, loss=0.8775\n",
      "Epoch 143/200, loss=1.3616\n",
      "Epoch 144/200, loss=0.4438\n",
      "Epoch 145/200, loss=0.7774\n",
      "Epoch 146/200, loss=0.3165\n",
      "Epoch 147/200, loss=0.3161\n",
      "Epoch 148/200, loss=0.8295\n",
      "Epoch 149/200, loss=1.2806\n",
      "Epoch 150/200, loss=0.7579\n",
      "Epoch 151/200, loss=0.6805\n",
      "Epoch 152/200, loss=0.7190\n",
      "Epoch 153/200, loss=0.7749\n",
      "Epoch 154/200, loss=0.4051\n",
      "Epoch 155/200, loss=0.2435\n",
      "Epoch 156/200, loss=0.1271\n",
      "Epoch 157/200, loss=0.3336\n",
      "Epoch 158/200, loss=0.7037\n",
      "Epoch 159/200, loss=0.7451\n",
      "Epoch 160/200, loss=0.2148\n",
      "Epoch 161/200, loss=0.6573\n",
      "Epoch 162/200, loss=0.2453\n",
      "Epoch 163/200, loss=0.1764\n",
      "Epoch 164/200, loss=0.2012\n",
      "Epoch 165/200, loss=0.5722\n",
      "Epoch 166/200, loss=0.2579\n",
      "Epoch 167/200, loss=0.6376\n",
      "Epoch 168/200, loss=0.1298\n",
      "Epoch 169/200, loss=0.5746\n",
      "Epoch 170/200, loss=0.6001\n",
      "Epoch 171/200, loss=0.1292\n",
      "Epoch 172/200, loss=0.2572\n",
      "Epoch 173/200, loss=0.5991\n",
      "Epoch 174/200, loss=0.2201\n",
      "Epoch 175/200, loss=0.2391\n",
      "Epoch 176/200, loss=0.1919\n",
      "Epoch 177/200, loss=0.0815\n",
      "Epoch 178/200, loss=0.1467\n",
      "Epoch 179/200, loss=0.1928\n",
      "Epoch 180/200, loss=0.1450\n",
      "Epoch 181/200, loss=0.4963\n",
      "Epoch 182/200, loss=0.1221\n",
      "Epoch 183/200, loss=0.1567\n",
      "Epoch 184/200, loss=0.1645\n",
      "Epoch 185/200, loss=0.1417\n",
      "Epoch 186/200, loss=0.0884\n",
      "Epoch 187/200, loss=0.0454\n",
      "Epoch 188/200, loss=0.1252\n",
      "Epoch 189/200, loss=0.1343\n",
      "Epoch 190/200, loss=0.3741\n",
      "Epoch 191/200, loss=0.4798\n",
      "Epoch 192/200, loss=0.0735\n",
      "Epoch 193/200, loss=0.4615\n",
      "Epoch 194/200, loss=0.3715\n",
      "Epoch 195/200, loss=0.0636\n",
      "Epoch 196/200, loss=0.0616\n",
      "Epoch 197/200, loss=0.6636\n",
      "Epoch 198/200, loss=0.3370\n",
      "Epoch 199/200, loss=0.0653\n",
      "Epoch 200/200, loss=0.0959\n",
      "Final Loss, loss=0.0959\n",
      "training complete. file saved to backup/ipynbdata.pth\n"
     ]
    }
   ],
   "source": [
    "device = torch.device(\"cuda\" if torch.cuda.is_available() else \"cpu\")\n",
    "\n",
    "model = NeuralNet(input_size, hidden_size, output_size).to(device)\n",
    "\n",
    "# Loss and Optimizer\n",
    "criterion = nn.CrossEntropyLoss()\n",
    "optimizer = torch.optim.Adam(model.parameters(), lr=learning_rate)\n",
    "\n",
    "for epoch in range(num_epochs):\n",
    "    for (words, labels) in train_loader:\n",
    "        words = words.to(device)\n",
    "        labels = labels.to(dtype=torch.long).to(device)\n",
    "\n",
    "        # Forward\n",
    "        outputs = model(words)\n",
    "        loss = criterion(outputs, labels)\n",
    "\n",
    "        # Backward and Optimizer\n",
    "        optimizer.zero_grad()\n",
    "        loss.backward()\n",
    "        optimizer.step()\n",
    "\n",
    "    print(f\"Epoch {epoch+1}/{num_epochs}, loss={loss.item():.4f}\")\n",
    "    if loss.item() < 0.01:\n",
    "        break\n",
    "\n",
    "print(f\"Final Loss, loss={loss.item():.4f}\")\n",
    "\n",
    "data = {\n",
    "    \"model_state\": model.state_dict(),\n",
    "    \"input_size\": input_size,\n",
    "    \"hidden_size\": hidden_size,\n",
    "    \"output_size\": output_size,\n",
    "    \"all_words\": all_words,\n",
    "    \"tags\": tags,\n",
    "}\n",
    "\n",
    "FILE = (f\"backup/ipynbdata.pth\")\n",
    "torch.save(data, FILE)\n",
    "\n",
    "print(f\"training complete. file saved to {FILE}\")"
   ]
  },
  {
   "cell_type": "markdown",
   "metadata": {},
   "source": [
    "# Testing"
   ]
  },
  {
   "cell_type": "markdown",
   "metadata": {},
   "source": [
    "### Constants"
   ]
  },
  {
   "cell_type": "code",
   "execution_count": 87,
   "metadata": {},
   "outputs": [],
   "source": [
    "FILE = \"./backup/ipynbdata.pth\"\n",
    "data = torch.load(FILE)"
   ]
  },
  {
   "cell_type": "markdown",
   "metadata": {},
   "source": [
    "### Loading the Data"
   ]
  },
  {
   "cell_type": "code",
   "execution_count": null,
   "metadata": {},
   "outputs": [],
   "source": [
    "input_size = data[\"input_size\"]\n",
    "hidden_size = data[\"hidden_size\"]\n",
    "output_size = data[\"output_size\"]\n",
    "all_words = data[\"all_words\"]\n",
    "tags = data[\"tags\"]\n",
    "model_state = data[\"model_state\"]"
   ]
  },
  {
   "cell_type": "code",
   "execution_count": 88,
   "metadata": {},
   "outputs": [
    {
     "data": {
      "text/plain": [
       "NeuralNet(\n",
       "  (l1): Linear(in_features=54, out_features=8, bias=True)\n",
       "  (l2): Linear(in_features=8, out_features=8, bias=True)\n",
       "  (l3): Linear(in_features=8, out_features=7, bias=True)\n",
       "  (relu): ReLU()\n",
       ")"
      ]
     },
     "execution_count": 88,
     "metadata": {},
     "output_type": "execute_result"
    }
   ],
   "source": [
    "model = NeuralNet(input_size, hidden_size, output_size).to(device)\n",
    "model.load_state_dict(model_state)\n",
    "model.eval()"
   ]
  },
  {
   "cell_type": "code",
   "execution_count": 89,
   "metadata": {},
   "outputs": [
    {
     "name": "stdout",
     "output_type": "stream",
     "text": [
      "Shoot a Question !\n",
      "You : exit\n"
     ]
    }
   ],
   "source": [
    "bot_name = \"Sam\"\n",
    "print(\"Shoot a Question !\")\n",
    "while True:\n",
    "    sentence = input(\"You : \")\n",
    "    print(f\"You : {sentence}\")\n",
    "    if sentence == \"quit\" or sentence == \"exit\":\n",
    "        break\n",
    "\n",
    "    sentence = tokenize(sentence)\n",
    "    X = bag_of_words(sentence, all_words)\n",
    "    X = X.reshape(1, X.shape[0])\n",
    "    X = torch.from_numpy(X).to(device)\n",
    "\n",
    "    output = model(X)\n",
    "    _, predicted = torch.max(output, dim=1)\n",
    "    tag = tags[predicted.item()]\n",
    "\n",
    "    probs = torch.softmax(output, dim=1)\n",
    "    prob = probs[0][predicted.item()]\n",
    "\n",
    "    if prob.item() > 0.50:\n",
    "        for intent in intents[\"intents\"]:\n",
    "            if tag == intent[\"tag\"]:\n",
    "                print(f\"{bot_name} : {random.choice(intent['responses'])}\")\n",
    "    else:\n",
    "        print(f\"{bot_name} : I do not understand...\")"
   ]
  }
 ],
 "metadata": {
  "interpreter": {
   "hash": "8f390760535ad0962a95dbf66350cef1b379fd8eae2caf931151f98276d5f782"
  },
  "kernelspec": {
   "display_name": "Python 3.9.5 64-bit ('venv': venv)",
   "name": "python3"
  },
  "language_info": {
   "codemirror_mode": {
    "name": "ipython",
    "version": 3
   },
   "file_extension": ".py",
   "mimetype": "text/x-python",
   "name": "python",
   "nbconvert_exporter": "python",
   "pygments_lexer": "ipython3",
   "version": "3.9.5"
  },
  "orig_nbformat": 4
 },
 "nbformat": 4,
 "nbformat_minor": 2
}
